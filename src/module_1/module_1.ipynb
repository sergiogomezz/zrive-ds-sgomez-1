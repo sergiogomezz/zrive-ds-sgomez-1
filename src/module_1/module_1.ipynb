{
 "cells": [
  {
   "cell_type": "code",
   "execution_count": 3,
   "metadata": {},
   "outputs": [],
   "source": [
    "# DECLARO VARIABLES DE ENTORNO E INFORMACION \n",
    "\n",
    "API_URL = \"https://archive-api.open-meteo.com/v1/archive?\"\n",
    "\n",
    "COORDINATES = { \n",
    "    \"Madrid\": {\"latitude\": 40.416775, \"longitude\": -3.703790}, \n",
    "    \"London\": {\"latitude\": 51.507351, \"longitude\": -0.127758},\n",
    "    \"Rio\": {\"latitude\": -22.906847, \"longitude\": -43.172896}, \n",
    "    }\n",
    "\n",
    "VARIABLES = [\n",
    "    \"temperature_2m_mean\", \"precipitation_sum\", \"wind_speed_10m_max\" \n",
    "    ]"
   ]
  },
  {
   "cell_type": "code",
   "execution_count": 2,
   "metadata": {},
   "outputs": [],
   "source": [
    "# IMPORTS NECESARIOS\n",
    "\n",
    "import requests\n",
    "import time"
   ]
  },
  {
   "cell_type": "code",
   "execution_count": 1,
   "metadata": {},
   "outputs": [],
   "source": [
    "# FUNCION PARA LLAMAR A LA API\n",
    "\n",
    "# funcion auxiliar para las llamadas api -- debe ser generica\n",
    "def api_call(url, params):\n",
    "    while True:\n",
    "        res = requests.get(url=url, params=params)\n",
    "        if res.status_code == 200:\n",
    "            return res.json()\n",
    "        elif res.status_code == 429:\n",
    "            print(\"Rate limit excedido.\")\n",
    "        else:\n",
    "            raise Exception(f\"Error en la solicitud: {res.status_code} - {res.text}\")\n"
   ]
  },
  {
   "cell_type": "code",
   "execution_count": 2,
   "metadata": {},
   "outputs": [],
   "source": [
    "#FUNCION PARA COGER LOS DATOS\n",
    "\n",
    "def get_data_meteo_api(longitude: float, latitude:float, start_date:str, end_date:str):\n",
    "\n",
    "    params={\n",
    "        \"latitude\": latitude,\n",
    "        \"longitude\": longitude,\n",
    "        \"start_date\": start_date,\n",
    "        \"end_date\": end_date,\n",
    "        \"daily\": \",\".join(VARIABLES), \n",
    "    }\n"
   ]
  }
 ],
 "metadata": {
  "kernelspec": {
   "display_name": "zrive-ds-scHUJ6-S-py3.11",
   "language": "python",
   "name": "python3"
  },
  "language_info": {
   "codemirror_mode": {
    "name": "ipython",
    "version": 3
   },
   "file_extension": ".py",
   "mimetype": "text/x-python",
   "name": "python",
   "nbconvert_exporter": "python",
   "pygments_lexer": "ipython3",
   "version": "3.11.0"
  }
 },
 "nbformat": 4,
 "nbformat_minor": 2
}
